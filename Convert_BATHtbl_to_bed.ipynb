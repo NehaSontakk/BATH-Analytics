{
  "nbformat": 4,
  "nbformat_minor": 0,
  "metadata": {
    "colab": {
      "provenance": [],
      "mount_file_id": "1p45Baf0vkjscQk5jLKsnBqiEjcUsZDiK",
      "authorship_tag": "ABX9TyPOtudwoHVroiY40Kr/ZfIw",
      "include_colab_link": true
    },
    "kernelspec": {
      "name": "python3",
      "display_name": "Python 3"
    },
    "language_info": {
      "name": "python"
    }
  },
  "cells": [
    {
      "cell_type": "markdown",
      "metadata": {
        "id": "view-in-github",
        "colab_type": "text"
      },
      "source": [
        "<a href=\"https://colab.research.google.com/github/NehaSontakk/BATH-Analytics/blob/main/Convert_BATHtbl_to_bed.ipynb\" target=\"_parent\"><img src=\"https://colab.research.google.com/assets/colab-badge.svg\" alt=\"Open In Colab\"/></a>"
      ]
    },
    {
      "cell_type": "code",
      "execution_count": null,
      "metadata": {
        "id": "9jDY57z4P5IR"
      },
      "outputs": [],
      "source": [
        "def tbl_to_bed(tbl_file, bed_file):\n",
        "    with open(tbl_file, 'r') as infile, open(bed_file, 'w') as outfile:\n",
        "        for line in infile:\n",
        "            if line.startswith('#'):\n",
        "                continue  # Skip header lines\n",
        "\n",
        "            columns = line.strip().split()  # Adjust delimiter if necessary\n",
        "            chromosome = columns[0]\n",
        "            ali_from = int(columns[8])  # Adjust index for 'Ali from' column\n",
        "            ali_to = int(columns[9])  # Adjust index for 'Ali to' column\n",
        "\n",
        "            # Determine strand and swap values if necessary\n",
        "            if ali_to > ali_from:\n",
        "                strand = '+'\n",
        "                start = ali_from - 1  # Adjust for 0-based start in BED\n",
        "                end = ali_to\n",
        "            else:\n",
        "                strand = '-'\n",
        "                start = ali_to - 1  # Swap and adjust for 0-based start\n",
        "                end = ali_from\n",
        "\n",
        "            # Write to BED file including the entire original line as extra information\n",
        "            outfile.write(f\"{chromosome}\\t{start}\\t{end}\\t{strand}\\t{line}\")\n",
        "\n",
        "# Usage\n",
        "tbl_file = \"/content/drive/MyDrive/Lab Work/Parkinsons_Data/Final_Bath_Output/BATH_output_combined.tbl\"\n",
        "bed_file = \"/content/drive/MyDrive/Lab Work/Parkinsons_Data/Final_Bath_Output/BATH_output_combined.bed\"\n",
        "tbl_to_bed(tbl_file, bed_file)\n"
      ]
    },
    {
      "cell_type": "code",
      "source": [],
      "metadata": {
        "id": "mKPb4YB6tOtl"
      },
      "execution_count": null,
      "outputs": []
    }
  ]
}