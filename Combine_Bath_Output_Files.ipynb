{
  "nbformat": 4,
  "nbformat_minor": 0,
  "metadata": {
    "colab": {
      "provenance": [],
      "mount_file_id": "1COygyUdhlROHJDd4sHzMhrHRW9FaV4tL",
      "authorship_tag": "ABX9TyOWsRAkrTTy9hDxlUYtYRjQ",
      "include_colab_link": true
    },
    "kernelspec": {
      "name": "python3",
      "display_name": "Python 3"
    },
    "language_info": {
      "name": "python"
    }
  },
  "cells": [
    {
      "cell_type": "markdown",
      "metadata": {
        "id": "view-in-github",
        "colab_type": "text"
      },
      "source": [
        "<a href=\"https://colab.research.google.com/github/NehaSontakk/BATH-Analytics/blob/main/Combine_Bath_Output_Files.ipynb\" target=\"_parent\"><img src=\"https://colab.research.google.com/assets/colab-badge.svg\" alt=\"Open In Colab\"/></a>"
      ]
    },
    {
      "cell_type": "code",
      "execution_count": 3,
      "metadata": {
        "id": "lsiTIRpQ6CJA",
        "colab": {
          "base_uri": "https://localhost:8080/"
        },
        "outputId": "10567cc2-4090-43e3-ee9a-0c149521b3bf"
      },
      "outputs": [
        {
          "output_type": "stream",
          "name": "stdout",
          "text": [
            "  # target name accession query name accession hmm len hmm from hmm to  \\\n",
            "0  k127_1013475         -     Q37556         -     334       12    325   \n",
            "1  k127_1013475         -     Q4JQI2         -     227       61    223   \n",
            "2  k127_1013475         -     Q35099         -     600        3    511   \n",
            "3  k127_1013475         -     O47497         -     491       58    478   \n",
            "4  k127_1013475         -     Q330A7         -     347        6    303   \n",
            "\n",
            "  seq len ali from ali to env from env to  E-value  score  bias shifts stops  \\\n",
            "0  183529     1009   1989      991   1998  1.1e-57  205.2  22.6      0     0   \n",
            "1  183529     4529   5035     4411   5049  5.2e-12   55.7   0.0      3     0   \n",
            "2  183529    11371  12999    11365  13098  3.7e-78  272.2  35.3      0     0   \n",
            "3  183529    13528  14802    13354  14826  1.5e-38  141.7  27.7      0     0   \n",
            "4  183529    15321  16304    15302  16364  1.7e-15   69.1   0.0      0     1   \n",
            "\n",
            "  pipe description of target  \n",
            "0  std                     -  \n",
            "1   fs                     -  \n",
            "2  std                     -  \n",
            "3  std                     -  \n",
            "4   fs                     -  \n"
          ]
        }
      ],
      "source": [
        "from glob import glob\n",
        "import re\n",
        "import pandas as pd\n",
        "\n",
        "file_names = [i for i in glob(\"/content/drive/MyDrive/Lab Work/Parkinsons_Data/Deduplicated_Bath_Output/*_deduplicated.tbl\")]\n",
        "\n",
        "# Function to read a .tbl file into a DataFrame\n",
        "def read_tbl_file_adjusted(file_path):\n",
        "    with open(file_path, 'r') as file:\n",
        "        lines = file.readlines()\n",
        "\n",
        "    # Extracting the header\n",
        "    header = lines[0].strip().split(\"\\t\")\n",
        "    num_columns = len(header)\n",
        "\n",
        "    # Processing the data rows\n",
        "    data = []\n",
        "    for line in lines[1:]:\n",
        "        row = re.split(r'\\s+', line.strip())\n",
        "        if len(row) == num_columns:\n",
        "            data.append(row)\n",
        "\n",
        "    return pd.DataFrame(data, columns=header)\n",
        "\n",
        "# Reading each file into a DataFrame and storing them in a list\n",
        "dataframes = [read_tbl_file_adjusted(path) for path in file_names]\n",
        "\n",
        "# Concatenating all DataFrames into one\n",
        "combined_df = pd.concat(dataframes, ignore_index=True)\n",
        "\n",
        "print(combined_df.head())\n",
        "\n",
        "# Convert e-value column to float for comparison\n",
        "combined_df['E-value'] = combined_df['E-value'].astype(float)\n",
        "\n",
        "# Group by 'contig name', 'ali from', and 'ali to', then keep the row with the minimum e-value\n",
        "filtered_df = combined_df.loc[combined_df.groupby(['# target name', 'ali from', 'ali to'])['E-value'].idxmin()]\n",
        "\n",
        "# Sort within each 'contig name' group by 'ali from'\n",
        "sorted_df = filtered_df.groupby('# target name', group_keys=False).apply(lambda x: x.sort_values('ali from'))\n",
        "\n",
        "# Save the sorted DataFrame to CSV and .tbl files\n",
        "sorted_df.to_csv(\"/content/drive/MyDrive/Lab Work/Parkinsons_Data/Final_Bath_Output/BATH_output_combined.csv\", sep=\",\", index=False)\n",
        "sorted_df.to_csv(\"/content/drive/MyDrive/Lab Work/Parkinsons_Data/Final_Bath_Output/BATH_output_combined.tbl\", sep=\"\\t\", index=False)"
      ]
    },
    {
      "cell_type": "code",
      "source": [],
      "metadata": {
        "id": "nYXYlfVwTIGm"
      },
      "execution_count": null,
      "outputs": []
    }
  ]
}